{
 "cells": [
  {
   "cell_type": "code",
   "execution_count": 1,
   "metadata": {},
   "outputs": [
    {
     "data": {
      "text/plain": [
       "<firebase_admin.App at 0x2a38b902440>"
      ]
     },
     "execution_count": 1,
     "metadata": {},
     "output_type": "execute_result"
    }
   ],
   "source": [
    "import firebase_admin\n",
    "from firebase_admin import credentials\n",
    "\n",
    "cred = credentials.Certificate('./serviceAccountKey.json') # replace with your own path\n",
    "\n",
    "# default_app = firebase_admin.initialize_app(cred)\n",
    "firebase_admin.initialize_app(cred, {\n",
    "    'databaseURL' : 'https://location-a26be-default-rtdb.asia-southeast1.firebasedatabase.app/'\n",
    "})"
   ]
  },
  {
   "cell_type": "code",
   "execution_count": 3,
   "metadata": {},
   "outputs": [
    {
     "name": "stdout",
     "output_type": "stream",
     "text": [
      "{'Rover1': {'control': {'backword': 1, 'forword': 0, 'left': 0, 'right': 0}, 'location': {'rover': {'latitude': 14.875359, 'longitude': 102.0154718, 'rotate': 336}, 'user': {'altitude': 237.30590336490422, 'latitude': 14.875733, 'longitude': 102.015569}}, 'status': {'Battery': 100, 'auto': True, 'door': False, 'idcam': 11, 'status': 0, 'velocity': 0}}, 'Rover2': {'control': {'backword': 0, 'forword': 0, 'left': 0, 'right': 0}, 'location': {'rover': {'latitude': 14.874827, 'longitude': 102.016729, 'rotate': 270}, 'user': {'latitude': 14.871670481555514, 'longitude': 102.0199750494345}}, 'status': {'Battery': 5, 'auto': True, 'door': False, 'idcam': 12, 'velocity': 100}}, 'Rover3': {'control': {'backword': 0, 'forword': 0, 'left': 0, 'right': 0}, 'location': {'rover': {'latitude': 14.879614, 'longitude': 102.015487}, 'user': {'latitude': 14.874134, 'longitude': 102.020012}}, 'status': {'Battery': 12, 'auto': False, 'door': True}}, 'Rover4': {'control': {'backword': 0, 'forword': 0, 'left': 0, 'right': 0}, 'location': {'rover': {'latitude': 14.875674, 'longitude': 102.013853}}, 'status': {'auto': True, 'door': True}}, 'Rover5': {'control': {'backword': 0, 'forword': 0, 'left': 0, 'right': 0}, 'location': {'rover': {'latitude': 14.874181, 'longitude': 102.014669}}, 'status': {'auto': False, 'door': True}}, 'Rover6': {'control': {'backword': 0, 'forword': 0, 'left': 0, 'right': 0}, 'status': {'auto': True}}, 'Rover7': '', 'Rover8': '', 'Rover9': '', 'nnn': {'control': {'backword': 0, 'forword': 0, 'left': 0, 'right': 0}, 'status': {'auto': True}}}\n"
     ]
    }
   ],
   "source": [
    "from firebase_admin import db\n",
    "# Get a reference to the root of the database\n",
    "root = db.reference()\n",
    "\n",
    "# Read data from the database\n",
    "data = root.get()\n",
    "print(data)\n",
    "\n"
   ]
  },
  {
   "cell_type": "code",
   "execution_count": 4,
   "metadata": {},
   "outputs": [
    {
     "name": "stdout",
     "output_type": "stream",
     "text": [
      "{'control': {'backword': 1, 'forword': 0, 'left': 0, 'right': 0}, 'location': {'rover': {'latitude': 14.875359, 'longitude': 102.0154718, 'rotate': 336}, 'user': {'altitude': 237.30590336490422, 'latitude': 14.875733, 'longitude': 102.015569}}, 'status': {'Battery': 100, 'auto': True, 'door': False, 'idcam': 11, 'status': 0, 'velocity': 0}}\n"
     ]
    }
   ],
   "source": [
    "child_ref = root.child('Rover1')\n",
    "\n",
    "# Read data from the child\n",
    "child_data = child_ref.get()\n",
    "print(child_data)\n",
    "\n"
   ]
  }
 ],
 "metadata": {
  "kernelspec": {
   "display_name": "Python 3",
   "language": "python",
   "name": "python3"
  },
  "language_info": {
   "codemirror_mode": {
    "name": "ipython",
    "version": 3
   },
   "file_extension": ".py",
   "mimetype": "text/x-python",
   "name": "python",
   "nbconvert_exporter": "python",
   "pygments_lexer": "ipython3",
   "version": "3.10.7"
  },
  "orig_nbformat": 4
 },
 "nbformat": 4,
 "nbformat_minor": 2
}
