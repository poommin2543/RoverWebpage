{
 "cells": [
  {
   "cell_type": "code",
   "execution_count": 2,
   "metadata": {},
   "outputs": [],
   "source": [
    "# importing the required module  \n",
    "from influxdb import InfluxDBClient  \n",
    "# defining the host and port  \n",
    "my_Client = InfluxDBClient(  \n",
    "    host = '172.25.3.3',  \n",
    "    port = 8086,  \n",
    "    username = 'rover',  \n",
    "    password = \"acselab1234\",  \n",
    "    ssl = False,  \n",
    "    verify_ssl = False  \n",
    "    )  "
   ]
  },
  {
   "cell_type": "code",
   "execution_count": 3,
   "metadata": {},
   "outputs": [
    {
     "name": "stdout",
     "output_type": "stream",
     "text": [
      "[{'name': '_internal'}, {'name': 'mydb'}, {'name': 'mydatabase'}]\n"
     ]
    }
   ],
   "source": [
    "print(my_Client.get_list_database())"
   ]
  },
  {
   "cell_type": "code",
   "execution_count": 4,
   "metadata": {},
   "outputs": [],
   "source": [
    "my_Client.switch_database('mydatabase')"
   ]
  },
  {
   "cell_type": "code",
   "execution_count": 54,
   "metadata": {},
   "outputs": [
    {
     "data": {
      "text/plain": [
       "True"
      ]
     },
     "execution_count": 54,
     "metadata": {},
     "output_type": "execute_result"
    }
   ],
   "source": [
    "json_body = [  \n",
    "    {\n",
    "        \"measurement\": \"cputest\",\n",
    "        \"tags\": {\n",
    "            # \"host\": \"server01\",\n",
    "            # \"region\": \"us-west\"\n",
    "            \"user\": \"rover002\",\n",
    "            \"idcam\": \"11\",\n",
    "            # \"brushId\": \"6a89f539-71c6-490d-a28d-6c5d84c0ee2fw\"\n",
    "        },\n",
    "        \"fields\": {\n",
    "            \"latitude\": 14.875359,\n",
    "            \"longitude\": 102.0154718,\n",
    "            \"Battery\": 100,\n",
    "            \"mode\": \"auto\",\n",
    "            \"door\": False,\n",
    "            \"velocity\": 0,\n",
    "        }\n",
    "    }\n",
    "    # {  \n",
    "    #     \"measurement\": \"brushEvents\",  \n",
    "    #     \"tags\": {  \n",
    "    #         \"user\": \"Derek\",  \n",
    "    #         \"brushId\": \"6a89f539-71c6-490d-a28d-6c5d84c0ee2fw\"  \n",
    "    #     },  \n",
    "    #     \"time\": \"2021-08-04T8:01:00Z\",  \n",
    "    #     \"fields\": {  \n",
    "    #         \"duration\": 147  ,\n",
    "    #         \"noom\": 5555 \n",
    "    #     }  \n",
    "    # },  \n",
    "    # {  \n",
    "    #     \"measurement\": \"brushEvents\",  \n",
    "    #     \"tags\": {  \n",
    "    #         \"user\": \"Derek\",  \n",
    "    #         \"brushId\": \"6a89f539-71c6-4xx90d-a28d-6c5d84c0ee2fq\"  \n",
    "    #     },  \n",
    "    #     \"time\": \"2021-08-05T8:04:00Z\",  \n",
    "    #     \"fields\": {  \n",
    "    #         \"duration\": 131  ,\n",
    "    #         \"noom\": 5555 \n",
    "    #     }  \n",
    "    # },  \n",
    "    # {  \n",
    "    #     \"measurement\": \"brushEvents\",  \n",
    "    #     \"tags\": {  \n",
    "    #         \"user\": \"Derek\",  \n",
    "    #         \"brushId\": \"6a89f539-71c6-490d-a28d-6c5d84c0ee2fa\"  \n",
    "    #     },  \n",
    "    #     \"time\": \"2021-08-06T8:02:00Z\",  \n",
    "    #     \"fields\": {  \n",
    "    #         \"duration\": 124  ,\n",
    "    #         \"noom\": 5555 \n",
    "    #     }  \n",
    "    # }  ,\n",
    "    #  {  \n",
    "    #     \"measurement\": \"brushEvents\",  \n",
    "    #     \"tags\": {  \n",
    "    #         \"user\": \"Derek\",  \n",
    "    #         \"brushId\": \"6a89f539-71c6-490d-a28d-6c5d84c0ee2ff\"  \n",
    "    #     },  \n",
    "    #     \"time\": \"2021-08-06T8:02:00Z\",  \n",
    "    #     \"fields\": {  \n",
    "    #         \"duration\": 124 ,\n",
    "    #         \"noom\": 5555 \n",
    "    #     }  \n",
    "    # }  \n",
    "]  \n",
    "my_Client.write_points(json_body)  "
   ]
  },
  {
   "cell_type": "code",
   "execution_count": 55,
   "metadata": {},
   "outputs": [
    {
     "name": "stdout",
     "output_type": "stream",
     "text": [
      "{'statement_id': 0, 'series': [{'name': 'measurements', 'columns': ['name'], 'values': [['cputest']]}]}\n"
     ]
    }
   ],
   "source": [
    "MEASUREMENTS = my_Client.query('SHOW MEASUREMENTS') \n",
    "print(MEASUREMENTS.raw)"
   ]
  },
  {
   "cell_type": "code",
   "execution_count": 21,
   "metadata": {},
   "outputs": [
    {
     "name": "stdout",
     "output_type": "stream",
     "text": [
      "{'statement_id': 0, 'series': [{'name': 'cpu', 'columns': ['time', 'host', 'region', 'value'], 'values': [['2023-06-15T03:35:34.538770Z', 'server01', 'us-west', 0.64], ['2023-06-15T03:35:44.887141Z', 'server01', 'us-west', 0.64]]}]}\n"
     ]
    }
   ],
   "source": [
    "\n",
    "\n",
    "\n",
    "results = my_Client.query('SELECT * FROM \"cpu\"') \n",
    "\n",
    "print(results.raw)"
   ]
  },
  {
   "cell_type": "code",
   "execution_count": 7,
   "metadata": {},
   "outputs": [],
   "source": [
    "my_points = results.get_points(tags = {'user':'Derek'})  "
   ]
  },
  {
   "cell_type": "code",
   "execution_count": 8,
   "metadata": {},
   "outputs": [
    {
     "name": "stdout",
     "output_type": "stream",
     "text": [
      "{'time': '2021-08-04T08:01:00Z', 'brushId': '6a89f539-71c6-490d-a28d-6c5d84c0ee2f', 'duration': 147, 'noom': 5555, 'user': 'Derek'}\n",
      "{'time': '2021-08-04T08:01:00Z', 'brushId': '6a89f539-71c6-490d-a28d-6c5d84c0ee2fw', 'duration': 147, 'noom': 5555, 'user': 'Derek'}\n",
      "{'time': '2021-08-05T08:04:00Z', 'brushId': '6a89f539-71c6-4xx90d-a28d-6c5d84c0ee2f', 'duration': 131, 'noom': 5555, 'user': 'Derek'}\n",
      "{'time': '2021-08-05T08:04:00Z', 'brushId': '6a89f539-71c6-4xx90d-a28d-6c5d84c0ee2fq', 'duration': 131, 'noom': 5555, 'user': 'Derek'}\n",
      "{'time': '2021-08-06T08:02:00Z', 'brushId': '6a89f539-71c6-490d-a28d-6c5d84c0ee2f', 'duration': 124, 'noom': 5555, 'user': 'Derek'}\n",
      "{'time': '2021-08-06T08:02:00Z', 'brushId': '6a89f539-71c6-490d-a28d-6c5d84c0ee2fa', 'duration': 124, 'noom': 5555, 'user': 'Derek'}\n",
      "{'time': '2021-08-06T08:02:00Z', 'brushId': '6a89f539-71c6-490d-a28d-6c5d84c0ee2ff', 'duration': 124, 'noom': 5555, 'user': 'Derek'}\n"
     ]
    }
   ],
   "source": [
    "my_points = results.get_points(tags = {'user': 'Derek'})  \n",
    "for my_point in my_points:  \n",
    "    # print(\"Time: %s, Duration: %i , noom: %i\" % (my_point['time'], my_point['duration'],my_point['noom']))\n",
    "    print(my_point)"
   ]
  },
  {
   "cell_type": "code",
   "execution_count": 37,
   "metadata": {},
   "outputs": [],
   "source": [
    "results = my_Client.query('delete  FROM \"cputest\"') "
   ]
  }
 ],
 "metadata": {
  "kernelspec": {
   "display_name": "Python 3",
   "language": "python",
   "name": "python3"
  },
  "language_info": {
   "codemirror_mode": {
    "name": "ipython",
    "version": 3
   },
   "file_extension": ".py",
   "mimetype": "text/x-python",
   "name": "python",
   "nbconvert_exporter": "python",
   "pygments_lexer": "ipython3",
   "version": "3.10.7"
  },
  "orig_nbformat": 4
 },
 "nbformat": 4,
 "nbformat_minor": 2
}
